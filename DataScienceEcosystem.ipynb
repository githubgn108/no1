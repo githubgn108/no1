{
 "cells": [
  {
   "cell_type": "markdown",
   "id": "70c2e943",
   "metadata": {},
   "source": [
    "# Data Science Tools and Ecosystem"
   ]
  },
  {
   "cell_type": "markdown",
   "id": "89cf4270",
   "metadata": {},
   "source": [
    "## In this notebook, Data Science Tools and Ecosystem are summarized."
   ]
  },
  {
   "attachments": {},
   "cell_type": "markdown",
   "id": "290b987b",
   "metadata": {},
   "source": [
    " ## **Objectives:**\n",
    "- List popular languages data scientists use\n",
    "- List popular data sciene libraries\n",
    "- List open source development environment tools available for data science\n",
    "- Arithmetic expressions: adding and multiplying\n",
    "- Arithmetic expressions: division"
   ]
  },
  {
   "cell_type": "markdown",
   "id": "a6e1ad43",
   "metadata": {},
   "source": [
    "### Some of the popular languages that Data Scientists use are:"
   ]
  },
  {
   "cell_type": "markdown",
   "id": "f264e53a",
   "metadata": {},
   "source": [
    "1. Python\n",
    "2. R\n",
    "3. Julia"
   ]
  },
  {
   "cell_type": "markdown",
   "id": "fbde6102",
   "metadata": {},
   "source": [
    "### Some of the commonly used libraries used by Data Scientists include:"
   ]
  },
  {
   "cell_type": "markdown",
   "id": "f3f583e2",
   "metadata": {},
   "source": [
    "1. scikit-learn\n",
    "2. tensorflow\n",
    "3. PyTorch"
   ]
  },
  {
   "cell_type": "markdown",
   "id": "2441a1e0",
   "metadata": {},
   "source": [
    "|Data Science Tools|\n",
    "|-------------------|\n",
    "|RStudio|\n",
    "|Apache Spark|\n",
    "|TensorFlow|\n",
    "|Apache Hadoop|"
   ]
  },
  {
   "cell_type": "markdown",
   "id": "a12248db",
   "metadata": {},
   "source": [
    "### Below are a few examples of evaluating arithmetic expressions in Python"
   ]
  },
  {
   "cell_type": "markdown",
   "id": "675257ed",
   "metadata": {},
   "source": [
    "### This is a simple arithmetic expression to multiply then add integers"
   ]
  },
  {
   "cell_type": "code",
   "execution_count": 1,
   "id": "f3a251f8",
   "metadata": {},
   "outputs": [
    {
     "data": {
      "text/plain": [
       "17"
      ]
     },
     "execution_count": 1,
     "metadata": {},
     "output_type": "execute_result"
    }
   ],
   "source": [
    "(3*4)+5"
   ]
  },
  {
   "cell_type": "markdown",
   "id": "e521ff87",
   "metadata": {},
   "source": [
    " ### This will convert 200 minutes to hours by diving by 60"
   ]
  },
  {
   "cell_type": "code",
   "execution_count": 9,
   "id": "1d302457",
   "metadata": {},
   "outputs": [
    {
     "name": "stdout",
     "output_type": "stream",
     "text": [
      "3\n",
      "Hours and\n",
      "20\n",
      "minutes\n"
     ]
    }
   ],
   "source": [
    "hours = 200//60\n",
    "minutes = 200%60\n",
    "print(hours)\n",
    "print(\"Hours and\")\n",
    "print(minutes)\n",
    "print(\"minutes\")"
   ]
  },
  {
   "cell_type": "markdown",
   "id": "3267ebf6",
   "metadata": {},
   "source": [
    "## Author:"
   ]
  },
  {
   "cell_type": "markdown",
   "id": "1d1f7b76",
   "metadata": {},
   "source": [
    "Ganesh Natarajan"
   ]
  },
  {
   "cell_type": "code",
   "execution_count": null,
   "id": "e5c60d7a",
   "metadata": {},
   "outputs": [],
   "source": []
  }
 ],
 "metadata": {
  "kernelspec": {
   "display_name": "Python 3",
   "language": "python",
   "name": "python3"
  },
  "language_info": {
   "codemirror_mode": {
    "name": "ipython",
    "version": 3
   },
   "file_extension": ".py",
   "mimetype": "text/x-python",
   "name": "python",
   "nbconvert_exporter": "python",
   "pygments_lexer": "ipython3",
   "version": "3.8.8"
  }
 },
 "nbformat": 4,
 "nbformat_minor": 5
}
